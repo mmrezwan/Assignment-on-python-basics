{
  "nbformat": 4,
  "nbformat_minor": 0,
  "metadata": {
    "colab": {
      "provenance": [],
      "authorship_tag": "ABX9TyMs/iXezrAaVs7TixySrjSL",
      "include_colab_link": true
    },
    "kernelspec": {
      "name": "python3",
      "display_name": "Python 3"
    },
    "language_info": {
      "name": "python"
    }
  },
  "cells": [
    {
      "cell_type": "markdown",
      "metadata": {
        "id": "view-in-github",
        "colab_type": "text"
      },
      "source": [
        "<a href=\"https://colab.research.google.com/github/mmrezwan/Assignment-on-python-basics/blob/main/Assignment_on_python_basics_20229030.ipynb\" target=\"_parent\"><img src=\"https://colab.research.google.com/assets/colab-badge.svg\" alt=\"Open In Colab\"/></a>"
      ]
    },
    {
      "cell_type": "markdown",
      "source": [
        "<h3><center>M. M. Rezwan<center></h3><center>Roll - 20229030, ASDS - 9th Batch<center><center>Assignment on python basics<center>"
      ],
      "metadata": {
        "id": "70kob24XGQFA"
      }
    },
    {
      "cell_type": "code",
      "source": [
        "#1. Write a Python program to count the number of characters (character frequency) in a string.\n",
        "#Sample String : google.com\n",
        "#Expected Result : {'o': 3, 'g': 2, '.': 1, 'e': 1, 'l': 1, 'm': 1, 'c': 1}\n",
        "\n",
        "input_string = input('Please input the String: ')\n",
        "\n",
        "cnt = dict()\n",
        "\n",
        "\n",
        "for a in input_string:\n",
        "    if a in cnt.keys():\n",
        "        cnt[a] +=1 \n",
        "    else :\n",
        "        cnt[a] = 1 \n",
        "\n",
        "\n",
        "cnt = dict(sorted(cnt.items(), key=lambda x: (-x[1], x[0])))\n",
        "\n",
        "print(cnt)"
      ],
      "metadata": {
        "colab": {
          "base_uri": "https://localhost:8080/"
        },
        "id": "68axTPkeGZqj",
        "outputId": "cc13c967-933a-41e3-efbb-887a94c64d3b"
      },
      "execution_count": 6,
      "outputs": [
        {
          "output_type": "stream",
          "name": "stdout",
          "text": [
            "Please input the String: google.com\n",
            "{'o': 3, 'g': 2, '.': 1, 'c': 1, 'e': 1, 'l': 1, 'm': 1}\n"
          ]
        }
      ]
    },
    {
      "cell_type": "code",
      "source": [
        "#2. Write a Python program to check if a given key already exists in a dictionary.\n",
        "\n",
        "input_keys = input('Please input the keys of the dictionary seperated by comma: ')\n",
        "\n",
        "input_values = input('Please input the values of the dictionary seperated by comma: ')\n",
        "\n",
        "Dict = dict(zip(input_keys.split(','), input_values.split(',')))\n",
        "\n",
        "\n",
        "check = input('Please input the checking string: ')\n",
        "\n",
        "print('Exists' if check in Dict else 'Not Existis')"
      ],
      "metadata": {
        "colab": {
          "base_uri": "https://localhost:8080/"
        },
        "id": "PF5zrVMnGf6t",
        "outputId": "de0ca076-b892-453c-a8c1-5840e626d150"
      },
      "execution_count": 8,
      "outputs": [
        {
          "output_type": "stream",
          "name": "stdout",
          "text": [
            "Please input the keys of the dictionary seperated by comma: 0, g, ., c, e, l, m\n",
            "Please input the values of the dictionary seperated by comma: 3, 2, 1, 1, 1, 1, 1\n",
            "Please input the checking string: google.com\n",
            "Not Existis\n"
          ]
        }
      ]
    },
    {
      "cell_type": "code",
      "source": [
        "#3. Write a Python program that accepts a sequence of comma-separated numbers from the\n",
        "#user and generates a list and a tuple of those numbers.\n",
        "#Sample data : 1, 5, 7, 23\n",
        "#Expected Output :\n",
        "#List : ['1', ' 5', ' 7', ' 23']\n",
        "#Tuple : ('1', ' 5', ' 7', ' 23')\n",
        "\n",
        "input_values = input('Please input the values of the list/tuple seperated by comma: ')\n",
        "\n",
        "print(\"List :\" , input_values.split(','))\n",
        "print(\"Tuple :\" , tuple(input_values.split(',')))"
      ],
      "metadata": {
        "colab": {
          "base_uri": "https://localhost:8080/"
        },
        "id": "NprHnSw-HUQg",
        "outputId": "6be5a3b5-c89b-453b-a665-ae3cc8ded7b1"
      },
      "execution_count": 10,
      "outputs": [
        {
          "output_type": "stream",
          "name": "stdout",
          "text": [
            "Please input the values of the list/tuple seperated by comma: 1, 5, 7, 23\n",
            "List : ['1', ' 5', ' 7', ' 23']\n",
            "Tuple : ('1', ' 5', ' 7', ' 23')\n"
          ]
        }
      ]
    },
    {
      "cell_type": "code",
      "source": [
        "#4. Write a Python program to calculate the number of days between two dates.\n",
        "#Sample dates : (2014, 7, 2), (2014, 7, 11)\n",
        "#Expected output : 9 days\n",
        "\n",
        "from datetime import datetime\n",
        "\n",
        "_1 = input('Please input the first date in year,month,day format: ')\n",
        "\n",
        "_2 = input('Please input the 2nd date in year,month,day format: ')\n",
        "\n",
        "\n",
        "Date1_list = [int(x) for x in _1.split(',')]\n",
        "\n",
        "Date2_list = [int(x) for x in _2.split(',')]\n",
        "\n",
        "dt1 = datetime(*Date1_list)\n",
        "dt2 = datetime(*Date2_list)\n",
        "\n",
        "print((dt2 - dt1).days, 'days')"
      ],
      "metadata": {
        "colab": {
          "base_uri": "https://localhost:8080/"
        },
        "id": "nidTxg3JHYwC",
        "outputId": "ff439ad9-afe9-4830-c5df-c498343e398b"
      },
      "execution_count": 12,
      "outputs": [
        {
          "output_type": "stream",
          "name": "stdout",
          "text": [
            "Please input the first date in year,month,day format: 2014, 7, 2\n",
            "Please input the 2nd date in year,month,day format: 2014, 7, 11\n",
            "9 days\n"
          ]
        }
      ]
    },
    {
      "cell_type": "code",
      "source": [
        "#5. Write a Python program to solve (x + y) * (x + y).\n",
        "#Test Data : x = 4, y = 3\n",
        "#Expected Output : (4 + 3) ^ 2) = 49\n",
        "\n",
        "x = int(input('Please input x: '))\n",
        "y = int(input('Please input y: '))\n",
        "\n",
        "print(\"(\" + str(x), \" + \" + str(y) + \") ^ 2 = \" , (x+y) * (x+y))"
      ],
      "metadata": {
        "colab": {
          "base_uri": "https://localhost:8080/"
        },
        "id": "NVeqYUDmHf4F",
        "outputId": "279cfa72-323b-4b84-e004-322a6c2a2504"
      },
      "execution_count": 13,
      "outputs": [
        {
          "output_type": "stream",
          "name": "stdout",
          "text": [
            "Please input x: 4\n",
            "Please input y: 3\n",
            "(4  + 3) ^ 2 =  49\n"
          ]
        }
      ]
    },
    {
      "cell_type": "code",
      "source": [
        "#6. Write a Python program to compute the future value of a specified principal amount,\n",
        "#rate of interest, and number of years.\n",
        "#Test Data : amt = 10000, int = 3.5, years = 7\n",
        "#Expected Output : 12722.79\n",
        "\n",
        "input_values = input('Please input P, r, t in comma seperated values: ')\n",
        "\n",
        "P, r, t = [float(x) for x in input_values.split(',')]\n",
        "\n",
        "FV = P*((1+(0.01*r)) ** t)\n",
        "\n",
        "print(round(FV,2))"
      ],
      "metadata": {
        "colab": {
          "base_uri": "https://localhost:8080/"
        },
        "id": "XpXwbVY1Hr1r",
        "outputId": "d9108453-d3c0-4815-f12f-3f92fc2363ed"
      },
      "execution_count": 14,
      "outputs": [
        {
          "output_type": "stream",
          "name": "stdout",
          "text": [
            "Please input P, r, t in comma seperated values: 1000, 3.5, 7\n",
            "1272.28\n"
          ]
        }
      ]
    },
    {
      "cell_type": "code",
      "source": [
        "#7. Write a Python program that removes duplicate elements from a given array of numbers so\n",
        "#that each element appears only once and returns the new length of the array.\n",
        "#Sample Input: [0,0,1,1,2,2,3,3,4,4,4]\n",
        "#Sample Output:\n",
        "#The list of unique numbers: [0,1,2,3,4]\n",
        "#length of the unique list : 5\n",
        "\n",
        "input_values = input('Please input list elements in comma seperated values: ')\n",
        "\n",
        "new_list = list(set([int(x) for x in input_values.split(',')]))\n",
        "\n",
        "print(\"The list of unique numbers :\", new_list)\n",
        "print(\"length of the unique list :\", len(new_list))"
      ],
      "metadata": {
        "colab": {
          "base_uri": "https://localhost:8080/"
        },
        "id": "lgC5X-ulHxL_",
        "outputId": "f06e7a6c-381e-4e5b-dc10-c1f78611dc2e"
      },
      "execution_count": 15,
      "outputs": [
        {
          "output_type": "stream",
          "name": "stdout",
          "text": [
            "Please input list elements in comma seperated values: 0,0,1,1,2,2,3,3,4,4,4\n",
            "The list of unique numbers : [0, 1, 2, 3, 4]\n",
            "length of the unique list : 5\n"
          ]
        }
      ]
    },
    {
      "cell_type": "code",
      "source": [
        "#8. Write a Python program to sort (ascending and descending) a dictionary by key value.\n",
        "\n",
        "input_keys = input('Please input the keys of the dictionary seperated by comma: ')\n",
        "\n",
        "input_values = input('Please input the values of the dictionary seperated by comma: ')\n",
        "\n",
        "Dict = dict(zip(input_keys.split(','), [int(x) for x in input_values.split(',')]))\n",
        "\n",
        "\n",
        "print(\"Ascending : \", dict(sorted(Dict.items(), key=lambda x: x[1])))\n",
        "\n",
        "print(\"Descending : \", dict(sorted(Dict.items(), key=lambda x: x[1], reverse = True)))\n"
      ],
      "metadata": {
        "colab": {
          "base_uri": "https://localhost:8080/"
        },
        "id": "XY0VmWHUH7m7",
        "outputId": "cb782f6f-ddd6-4e82-8eaf-90a754f0d2a3"
      },
      "execution_count": 16,
      "outputs": [
        {
          "output_type": "stream",
          "name": "stdout",
          "text": [
            "Please input the keys of the dictionary seperated by comma: 0, g, ., c, e, l, m\n",
            "Please input the values of the dictionary seperated by comma: 3, 2, 1, 1, 1, 1, 1\n",
            "Ascending :  {' .': 1, ' c': 1, ' e': 1, ' l': 1, ' m': 1, ' g': 2, '0': 3}\n",
            "Descending :  {'0': 3, ' g': 2, ' .': 1, ' c': 1, ' e': 1, ' l': 1, ' m': 1}\n"
          ]
        }
      ]
    },
    {
      "cell_type": "code",
      "source": [
        "#9. Write a Python program to add key to a dictionary. Go to the editor\n",
        "#Sample Dictionary : {0: 10, 1: 20}\n",
        "#Expected Result : {0: 10, 1: 20, 2: 30}\n",
        "\n",
        "Dict = {0: 10, 1: 20}\n",
        "Dict[2] = 30\n",
        "\n",
        "print(Dict)\n"
      ],
      "metadata": {
        "colab": {
          "base_uri": "https://localhost:8080/"
        },
        "id": "N8QwS5pjIB3N",
        "outputId": "6f2ef4c7-219f-46ac-df85-6952983df6bf"
      },
      "execution_count": 17,
      "outputs": [
        {
          "output_type": "stream",
          "name": "stdout",
          "text": [
            "{0: 10, 1: 20, 2: 30}\n"
          ]
        }
      ]
    },
    {
      "cell_type": "code",
      "source": [
        "#10. Write a Pandas program to create and display a DataFrame from a specified dictionary data which has the index labels.\n",
        "#Sample Python dictionary data and list labels:\n",
        "#exam_data = {'name': ['Arif', 'Asir', 'Arik', 'Anis', 'Anil', 'Ashish', 'Anahi', 'Alia', 'Alvin', 'Asim'],\n",
        "#'score': [12.5, 9, 16.5, np.nan, 9, 20, 14.5, np.nan, 8, 19],\n",
        "#'attempts': [1, 3, 2, 3, 2, 3, 1, 1, 2, 1],\n",
        "#'qualify': ['yes', 'no', 'yes', 'no', 'no', 'yes', 'yes', 'no', 'no', 'yes']}\n",
        "#labels = ['a', 'b', 'c', 'd', 'e', 'f', 'g', 'h', 'i', 'j']\n",
        "\n",
        "import pandas as pd\n",
        "import numpy as np\n",
        "\n",
        "exam_data = {\n",
        "            'name': ['Arif', 'Asir', 'Arik', 'Anis', 'Anil', 'Ashish', 'Anahi', 'Alia', 'Alvin', 'Asim'],\n",
        "            'score': [12.5, 9, 16.5, np.nan, 9, 20, 14.5, np.nan, 8, 19],\n",
        "            'attempts': [1, 3, 2, 3, 2, 3, 1, 1, 2, 1],\n",
        "            'qualify': ['yes', 'no', 'yes', 'no', 'no', 'yes', 'yes', 'no', 'no', 'yes']\n",
        "            }\n",
        "\n",
        "\n",
        "labels = ['a', 'b', 'c', 'd', 'e', 'f', 'g', 'h', 'i', 'j']\n",
        "\n",
        "df = pd.DataFrame.from_dict(exam_data)\n",
        "\n",
        "df.index = labels\n",
        "df"
      ],
      "metadata": {
        "colab": {
          "base_uri": "https://localhost:8080/",
          "height": 363
        },
        "id": "stNriCH9IdVj",
        "outputId": "33262993-4bf1-4455-ed79-609fc3e6eb26"
      },
      "execution_count": 18,
      "outputs": [
        {
          "output_type": "execute_result",
          "data": {
            "text/plain": [
              "     name  score  attempts qualify\n",
              "a    Arif   12.5         1     yes\n",
              "b    Asir    9.0         3      no\n",
              "c    Arik   16.5         2     yes\n",
              "d    Anis    NaN         3      no\n",
              "e    Anil    9.0         2      no\n",
              "f  Ashish   20.0         3     yes\n",
              "g   Anahi   14.5         1     yes\n",
              "h    Alia    NaN         1      no\n",
              "i   Alvin    8.0         2      no\n",
              "j    Asim   19.0         1     yes"
            ],
            "text/html": [
              "\n",
              "  <div id=\"df-3ad5a127-9d3d-4eb4-b583-15b87c8cf54f\">\n",
              "    <div class=\"colab-df-container\">\n",
              "      <div>\n",
              "<style scoped>\n",
              "    .dataframe tbody tr th:only-of-type {\n",
              "        vertical-align: middle;\n",
              "    }\n",
              "\n",
              "    .dataframe tbody tr th {\n",
              "        vertical-align: top;\n",
              "    }\n",
              "\n",
              "    .dataframe thead th {\n",
              "        text-align: right;\n",
              "    }\n",
              "</style>\n",
              "<table border=\"1\" class=\"dataframe\">\n",
              "  <thead>\n",
              "    <tr style=\"text-align: right;\">\n",
              "      <th></th>\n",
              "      <th>name</th>\n",
              "      <th>score</th>\n",
              "      <th>attempts</th>\n",
              "      <th>qualify</th>\n",
              "    </tr>\n",
              "  </thead>\n",
              "  <tbody>\n",
              "    <tr>\n",
              "      <th>a</th>\n",
              "      <td>Arif</td>\n",
              "      <td>12.5</td>\n",
              "      <td>1</td>\n",
              "      <td>yes</td>\n",
              "    </tr>\n",
              "    <tr>\n",
              "      <th>b</th>\n",
              "      <td>Asir</td>\n",
              "      <td>9.0</td>\n",
              "      <td>3</td>\n",
              "      <td>no</td>\n",
              "    </tr>\n",
              "    <tr>\n",
              "      <th>c</th>\n",
              "      <td>Arik</td>\n",
              "      <td>16.5</td>\n",
              "      <td>2</td>\n",
              "      <td>yes</td>\n",
              "    </tr>\n",
              "    <tr>\n",
              "      <th>d</th>\n",
              "      <td>Anis</td>\n",
              "      <td>NaN</td>\n",
              "      <td>3</td>\n",
              "      <td>no</td>\n",
              "    </tr>\n",
              "    <tr>\n",
              "      <th>e</th>\n",
              "      <td>Anil</td>\n",
              "      <td>9.0</td>\n",
              "      <td>2</td>\n",
              "      <td>no</td>\n",
              "    </tr>\n",
              "    <tr>\n",
              "      <th>f</th>\n",
              "      <td>Ashish</td>\n",
              "      <td>20.0</td>\n",
              "      <td>3</td>\n",
              "      <td>yes</td>\n",
              "    </tr>\n",
              "    <tr>\n",
              "      <th>g</th>\n",
              "      <td>Anahi</td>\n",
              "      <td>14.5</td>\n",
              "      <td>1</td>\n",
              "      <td>yes</td>\n",
              "    </tr>\n",
              "    <tr>\n",
              "      <th>h</th>\n",
              "      <td>Alia</td>\n",
              "      <td>NaN</td>\n",
              "      <td>1</td>\n",
              "      <td>no</td>\n",
              "    </tr>\n",
              "    <tr>\n",
              "      <th>i</th>\n",
              "      <td>Alvin</td>\n",
              "      <td>8.0</td>\n",
              "      <td>2</td>\n",
              "      <td>no</td>\n",
              "    </tr>\n",
              "    <tr>\n",
              "      <th>j</th>\n",
              "      <td>Asim</td>\n",
              "      <td>19.0</td>\n",
              "      <td>1</td>\n",
              "      <td>yes</td>\n",
              "    </tr>\n",
              "  </tbody>\n",
              "</table>\n",
              "</div>\n",
              "      <button class=\"colab-df-convert\" onclick=\"convertToInteractive('df-3ad5a127-9d3d-4eb4-b583-15b87c8cf54f')\"\n",
              "              title=\"Convert this dataframe to an interactive table.\"\n",
              "              style=\"display:none;\">\n",
              "        \n",
              "  <svg xmlns=\"http://www.w3.org/2000/svg\" height=\"24px\"viewBox=\"0 0 24 24\"\n",
              "       width=\"24px\">\n",
              "    <path d=\"M0 0h24v24H0V0z\" fill=\"none\"/>\n",
              "    <path d=\"M18.56 5.44l.94 2.06.94-2.06 2.06-.94-2.06-.94-.94-2.06-.94 2.06-2.06.94zm-11 1L8.5 8.5l.94-2.06 2.06-.94-2.06-.94L8.5 2.5l-.94 2.06-2.06.94zm10 10l.94 2.06.94-2.06 2.06-.94-2.06-.94-.94-2.06-.94 2.06-2.06.94z\"/><path d=\"M17.41 7.96l-1.37-1.37c-.4-.4-.92-.59-1.43-.59-.52 0-1.04.2-1.43.59L10.3 9.45l-7.72 7.72c-.78.78-.78 2.05 0 2.83L4 21.41c.39.39.9.59 1.41.59.51 0 1.02-.2 1.41-.59l7.78-7.78 2.81-2.81c.8-.78.8-2.07 0-2.86zM5.41 20L4 18.59l7.72-7.72 1.47 1.35L5.41 20z\"/>\n",
              "  </svg>\n",
              "      </button>\n",
              "      \n",
              "  <style>\n",
              "    .colab-df-container {\n",
              "      display:flex;\n",
              "      flex-wrap:wrap;\n",
              "      gap: 12px;\n",
              "    }\n",
              "\n",
              "    .colab-df-convert {\n",
              "      background-color: #E8F0FE;\n",
              "      border: none;\n",
              "      border-radius: 50%;\n",
              "      cursor: pointer;\n",
              "      display: none;\n",
              "      fill: #1967D2;\n",
              "      height: 32px;\n",
              "      padding: 0 0 0 0;\n",
              "      width: 32px;\n",
              "    }\n",
              "\n",
              "    .colab-df-convert:hover {\n",
              "      background-color: #E2EBFA;\n",
              "      box-shadow: 0px 1px 2px rgba(60, 64, 67, 0.3), 0px 1px 3px 1px rgba(60, 64, 67, 0.15);\n",
              "      fill: #174EA6;\n",
              "    }\n",
              "\n",
              "    [theme=dark] .colab-df-convert {\n",
              "      background-color: #3B4455;\n",
              "      fill: #D2E3FC;\n",
              "    }\n",
              "\n",
              "    [theme=dark] .colab-df-convert:hover {\n",
              "      background-color: #434B5C;\n",
              "      box-shadow: 0px 1px 3px 1px rgba(0, 0, 0, 0.15);\n",
              "      filter: drop-shadow(0px 1px 2px rgba(0, 0, 0, 0.3));\n",
              "      fill: #FFFFFF;\n",
              "    }\n",
              "  </style>\n",
              "\n",
              "      <script>\n",
              "        const buttonEl =\n",
              "          document.querySelector('#df-3ad5a127-9d3d-4eb4-b583-15b87c8cf54f button.colab-df-convert');\n",
              "        buttonEl.style.display =\n",
              "          google.colab.kernel.accessAllowed ? 'block' : 'none';\n",
              "\n",
              "        async function convertToInteractive(key) {\n",
              "          const element = document.querySelector('#df-3ad5a127-9d3d-4eb4-b583-15b87c8cf54f');\n",
              "          const dataTable =\n",
              "            await google.colab.kernel.invokeFunction('convertToInteractive',\n",
              "                                                     [key], {});\n",
              "          if (!dataTable) return;\n",
              "\n",
              "          const docLinkHtml = 'Like what you see? Visit the ' +\n",
              "            '<a target=\"_blank\" href=https://colab.research.google.com/notebooks/data_table.ipynb>data table notebook</a>'\n",
              "            + ' to learn more about interactive tables.';\n",
              "          element.innerHTML = '';\n",
              "          dataTable['output_type'] = 'display_data';\n",
              "          await google.colab.output.renderOutput(dataTable, element);\n",
              "          const docLink = document.createElement('div');\n",
              "          docLink.innerHTML = docLinkHtml;\n",
              "          element.appendChild(docLink);\n",
              "        }\n",
              "      </script>\n",
              "    </div>\n",
              "  </div>\n",
              "  "
            ]
          },
          "metadata": {},
          "execution_count": 18
        }
      ]
    }
  ]
}